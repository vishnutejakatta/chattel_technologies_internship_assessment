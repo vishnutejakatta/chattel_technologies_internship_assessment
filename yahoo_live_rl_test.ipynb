{
 "cells": [
  {
   "cell_type": "markdown",
   "metadata": {},
   "source": [
    "# Importing required libraries"
   ]
  },
  {
   "cell_type": "code",
   "execution_count": 10,
   "metadata": {},
   "outputs": [],
   "source": [
    "import pandas as pd\n",
    "import numpy as np\n",
    "import altair as alt\n",
    "import seaborn as sns\n",
    "import lxml.html as lh\n",
    "import time\n",
    "import urllib.request\n",
    "import argparse\n",
    "import datetime\n",
    "import pytz\n",
    "from selenium import webdriver\n",
    "from selenium.common.exceptions import StaleElementReferenceException\n",
    "import os\n",
    "import coloredlogs\n",
    "import sys\n",
    "from docopt import docopt\n",
    "from trading_bot.ops import get_state\n",
    "from trading_bot.agent import Agent\n",
    "from trading_bot.methods import evaluate_model\n",
    "from trading_bot.utils import (\n",
    "    get_stock_data,\n",
    "    format_currency,\n",
    "    format_position,\n",
    "    show_eval_result,\n",
    "    switch_k_backend_device\n",
    ")"
   ]
  },
  {
   "cell_type": "markdown",
   "metadata": {},
   "source": [
    "# Setting timezone and Chrome WebDriver\n",
    "### Note: Works only on Chrome 81"
   ]
  },
  {
   "cell_type": "code",
   "execution_count": 11,
   "metadata": {},
   "outputs": [
    {
     "name": "stderr",
     "output_type": "stream",
     "text": [
      "2020-05-22 12:25:35 darkdevil selenium.webdriver.remote.remote_connection[19390] DEBUG POST http://127.0.0.1:51273/session {\"capabilities\": {\"firstMatch\": [{}], \"alwaysMatch\": {\"browserName\": \"chrome\", \"platformName\": \"any\", \"goog:chromeOptions\": {\"excludeSwitches\": [\"enable-logging\"], \"extensions\": [], \"args\": [\"--no-sandbox\", \"--disable-dev-shm-usage\", \"--headless\"]}}}, \"desiredCapabilities\": {\"browserName\": \"chrome\", \"version\": \"\", \"platform\": \"ANY\", \"goog:chromeOptions\": {\"excludeSwitches\": [\"enable-logging\"], \"extensions\": [], \"args\": [\"--no-sandbox\", \"--disable-dev-shm-usage\", \"--headless\"]}}}\n",
      "2020-05-22 12:25:35 darkdevil urllib3.connectionpool[19390] DEBUG Starting new HTTP connection (1): 127.0.0.1:51273\n",
      "2020-05-22 12:25:42 darkdevil urllib3.connectionpool[19390] DEBUG http://127.0.0.1:51273 \"POST /session HTTP/1.1\" 200 679\n",
      "2020-05-22 12:25:42 darkdevil selenium.webdriver.remote.remote_connection[19390] DEBUG Finished Request\n"
     ]
    }
   ],
   "source": [
    "tz = pytz.timezone('Asia/Kolkata')\n",
    "path1 = os.getcwd()\n",
    "path = path1 + '/chromedriver'\n",
    "ignored_exceptions=(StaleElementReferenceException,)\n",
    "options = webdriver.ChromeOptions()\n",
    "options.add_argument('--no-sandbox')\n",
    "options.add_argument('--disable-dev-shm-usage')\n",
    "options.add_argument('--headless')\n",
    "options.add_experimental_option('excludeSwitches', ['enable-logging'])\n",
    "driver = webdriver.Chrome(executable_path=path , options=options)"
   ]
  },
  {
   "cell_type": "code",
   "execution_count": 12,
   "metadata": {},
   "outputs": [],
   "source": [
    "from trading_bot.agent import Agent\n",
    "model_name = 'model_debug_50'\n",
    "window_size = 10\n",
    "debug = True\n",
    "agent = Agent(window_size, pretrained=True, model_name=model_name)"
   ]
  },
  {
   "cell_type": "markdown",
   "metadata": {},
   "source": [
    "# Function that returns Price of the given URL"
   ]
  },
  {
   "cell_type": "code",
   "execution_count": 13,
   "metadata": {},
   "outputs": [],
   "source": [
    "def Real(url,count):\n",
    "    if count == 0:\n",
    "        driver.get(url)\n",
    "    else:\n",
    "        driver.refresh()\n",
    "        time.sleep(15)\n",
    "\n",
    "    infile = driver.page_source\n",
    "    doc = lh.fromstring(infile)\n",
    "    live = doc.xpath('/html/body/div[1]/div/div/div[1]/div/div[2]/div/div/div[4]/div/div/div/div[3]/div/div/span[1]')\n",
    "    live = float(live[0].text.replace(',',''))\n",
    "    return live "
   ]
  },
  {
   "cell_type": "markdown",
   "metadata": {},
   "source": [
    "# Function that plots the graph"
   ]
  },
  {
   "cell_type": "code",
   "execution_count": 14,
   "metadata": {},
   "outputs": [],
   "source": [
    "def visualize(df, history, title=\"trading session\"):\n",
    "    # Add history to dataframe\n",
    "    position = [history[0][0]] + [x[0] for x in history]\n",
    "    actions = ['HOLD'] + [x[1] for x in history]\n",
    "    df['position'] = position\n",
    "    df['action'] = actions\n",
    "    \n",
    "    # specify y-axis scale for stock prices\n",
    "    scale = alt.Scale(domain=(min(min(df['actual']), min(df['position'])) - 2, max(max(df['actual']), max(df['position'])) + 2), clamp=True)\n",
    "    \n",
    "    # plot a line chart for stock positions\n",
    "    actual = alt.Chart(df).mark_line(\n",
    "        color='green',\n",
    "        opacity=0.5\n",
    "    ).encode(\n",
    "        x='hoursminutesseconds(time):T',\n",
    "        y=alt.Y('position', axis=alt.Axis(format='$.2f', title='Price'), scale=scale)\n",
    "    ).interactive(\n",
    "        bind_y=False\n",
    "    )\n",
    "    \n",
    "    # plot the BUY and SELL actions as points\n",
    "    points = alt.Chart(df).transform_filter(\n",
    "        alt.datum.action != 'HOLD'\n",
    "    ).mark_point(\n",
    "        filled=True\n",
    "    ).encode(\n",
    "        x = alt.X('hoursminutesseconds(time):O', title='Time'),\n",
    "        y=alt.Y('position', axis=alt.Axis(format='$.2f', title='Price'), scale=scale),\n",
    "        color='action'\n",
    "    ).interactive(bind_y=False)\n",
    "\n",
    "    # merge the two charts\n",
    "    chart = alt.layer(actual, points, title=title).properties(height=300, width=1000)\n",
    "    \n",
    "    return chart"
   ]
  },
  {
   "cell_type": "code",
   "execution_count": 15,
   "metadata": {},
   "outputs": [],
   "source": [
    "def evaluate_model(agent, state, next_state, data, t, total_profit, history, reward, window_size, debug=False):\n",
    "    action = agent.act(state, is_eval=True)\n",
    "    # BUY\n",
    "    if action == 1:\n",
    "        agent.inventory.append(data[t])\n",
    "        history.append((data[t], \"BUY\"))\n",
    "        if debug:\n",
    "            logging.debug(\"Buy at: {}\".format(format_currency(data[t])))\n",
    "    # SELL\n",
    "    elif action == 2 and len(agent.inventory) > 0:\n",
    "        bought_price = agent.inventory.pop(0)\n",
    "        delta = data[t] - bought_price\n",
    "        reward = delta #max(delta, 0)\n",
    "        total_profit += delta\n",
    "        history.append((data[t], \"SELL\"))\n",
    "        if debug:\n",
    "            logging.debug(\"Sell at: {} | Position: {}\".format(\n",
    "                    format_currency(data[t]), format_position(data[t] - bought_price)))\n",
    "    # HOLD\n",
    "    else:\n",
    "        history.append((data[t], \"HOLD\"))\n",
    "\n",
    "    agent.memory.append((state, action, reward, next_state))\n",
    "    return total_profit"
   ]
  },
  {
   "cell_type": "markdown",
   "metadata": {},
   "source": [
    "# The main function"
   ]
  },
  {
   "cell_type": "code",
   "execution_count": 49,
   "metadata": {
    "scrolled": false
   },
   "outputs": [
    {
     "name": "stderr",
     "output_type": "stream",
     "text": [
      "2020-05-22 12:55:10 darkdevil root[19390] DEBUG switching to TensorFlow for CPU\n",
      "2020-05-22 12:55:10 darkdevil selenium.webdriver.remote.remote_connection[19390] DEBUG POST http://127.0.0.1:51273/session/d481ffcf4b322db9c104351bac4d399f/url {\"url\": \"https://finance.yahoo.com/quote/RELIANCE.NS?p=RELIANCE.NS&.tsrc=fin-srch\"}\n"
     ]
    },
    {
     "name": "stdout",
     "output_type": "stream",
     "text": [
      "0\n"
     ]
    },
    {
     "name": "stderr",
     "output_type": "stream",
     "text": [
      "2020-05-22 12:55:11 darkdevil urllib3.connectionpool[19390] DEBUG http://127.0.0.1:51273 \"POST /session/d481ffcf4b322db9c104351bac4d399f/url HTTP/1.1\" 200 14\n",
      "2020-05-22 12:55:11 darkdevil selenium.webdriver.remote.remote_connection[19390] DEBUG Finished Request\n",
      "2020-05-22 12:55:11 darkdevil selenium.webdriver.remote.remote_connection[19390] DEBUG GET http://127.0.0.1:51273/session/d481ffcf4b322db9c104351bac4d399f/source {}\n",
      "2020-05-22 12:55:11 darkdevil urllib3.connectionpool[19390] DEBUG http://127.0.0.1:51273 \"GET /session/d481ffcf4b322db9c104351bac4d399f/source HTTP/1.1\" 200 848307\n",
      "2020-05-22 12:55:11 darkdevil selenium.webdriver.remote.remote_connection[19390] DEBUG Finished Request\n",
      "2020-05-22 12:55:11 darkdevil selenium.webdriver.remote.remote_connection[19390] DEBUG POST http://127.0.0.1:51273/session/d481ffcf4b322db9c104351bac4d399f/refresh {}\n"
     ]
    },
    {
     "name": "stdout",
     "output_type": "stream",
     "text": [
      "1\n"
     ]
    },
    {
     "name": "stderr",
     "output_type": "stream",
     "text": [
      "2020-05-22 12:55:13 darkdevil urllib3.connectionpool[19390] DEBUG http://127.0.0.1:51273 \"POST /session/d481ffcf4b322db9c104351bac4d399f/refresh HTTP/1.1\" 200 14\n",
      "2020-05-22 12:55:13 darkdevil selenium.webdriver.remote.remote_connection[19390] DEBUG Finished Request\n",
      "2020-05-22 12:55:28 darkdevil selenium.webdriver.remote.remote_connection[19390] DEBUG GET http://127.0.0.1:51273/session/d481ffcf4b322db9c104351bac4d399f/source {}\n",
      "2020-05-22 12:55:28 darkdevil urllib3.connectionpool[19390] DEBUG http://127.0.0.1:51273 \"GET /session/d481ffcf4b322db9c104351bac4d399f/source HTTP/1.1\" 200 887629\n",
      "2020-05-22 12:55:28 darkdevil selenium.webdriver.remote.remote_connection[19390] DEBUG Finished Request\n",
      "2020-05-22 12:55:29 darkdevil root[19390] INFO model_debug_50: USELESS\n",
      "\n",
      "2020-05-22 12:55:29 darkdevil selenium.webdriver.remote.remote_connection[19390] DEBUG POST http://127.0.0.1:51273/session/d481ffcf4b322db9c104351bac4d399f/refresh {}\n"
     ]
    },
    {
     "name": "stdout",
     "output_type": "stream",
     "text": [
      "2\n"
     ]
    },
    {
     "name": "stderr",
     "output_type": "stream",
     "text": [
      "2020-05-22 12:55:30 darkdevil urllib3.connectionpool[19390] DEBUG http://127.0.0.1:51273 \"POST /session/d481ffcf4b322db9c104351bac4d399f/refresh HTTP/1.1\" 200 14\n",
      "2020-05-22 12:55:30 darkdevil selenium.webdriver.remote.remote_connection[19390] DEBUG Finished Request\n",
      "2020-05-22 12:55:45 darkdevil selenium.webdriver.remote.remote_connection[19390] DEBUG GET http://127.0.0.1:51273/session/d481ffcf4b322db9c104351bac4d399f/source {}\n",
      "2020-05-22 12:55:46 darkdevil urllib3.connectionpool[19390] DEBUG http://127.0.0.1:51273 \"GET /session/d481ffcf4b322db9c104351bac4d399f/source HTTP/1.1\" 200 886543\n",
      "2020-05-22 12:55:46 darkdevil selenium.webdriver.remote.remote_connection[19390] DEBUG Finished Request\n",
      "2020-05-22 12:55:47 darkdevil root[19390] INFO model_debug_50: USELESS\n",
      "\n",
      "2020-05-22 12:55:47 darkdevil selenium.webdriver.remote.remote_connection[19390] DEBUG POST http://127.0.0.1:51273/session/d481ffcf4b322db9c104351bac4d399f/refresh {}\n"
     ]
    },
    {
     "name": "stdout",
     "output_type": "stream",
     "text": [
      "3\n"
     ]
    },
    {
     "name": "stderr",
     "output_type": "stream",
     "text": [
      "2020-05-22 12:55:48 darkdevil urllib3.connectionpool[19390] DEBUG http://127.0.0.1:51273 \"POST /session/d481ffcf4b322db9c104351bac4d399f/refresh HTTP/1.1\" 200 14\n",
      "2020-05-22 12:55:48 darkdevil selenium.webdriver.remote.remote_connection[19390] DEBUG Finished Request\n",
      "2020-05-22 12:56:03 darkdevil selenium.webdriver.remote.remote_connection[19390] DEBUG GET http://127.0.0.1:51273/session/d481ffcf4b322db9c104351bac4d399f/source {}\n",
      "2020-05-22 12:56:03 darkdevil urllib3.connectionpool[19390] DEBUG http://127.0.0.1:51273 \"GET /session/d481ffcf4b322db9c104351bac4d399f/source HTTP/1.1\" 200 886511\n",
      "2020-05-22 12:56:03 darkdevil selenium.webdriver.remote.remote_connection[19390] DEBUG Finished Request\n",
      "2020-05-22 12:56:04 darkdevil root[19390] INFO model_debug_50: USELESS\n",
      "\n",
      "2020-05-22 12:56:04 darkdevil selenium.webdriver.remote.remote_connection[19390] DEBUG POST http://127.0.0.1:51273/session/d481ffcf4b322db9c104351bac4d399f/refresh {}\n"
     ]
    },
    {
     "name": "stdout",
     "output_type": "stream",
     "text": [
      "4\n"
     ]
    },
    {
     "name": "stderr",
     "output_type": "stream",
     "text": [
      "2020-05-22 12:56:05 darkdevil urllib3.connectionpool[19390] DEBUG http://127.0.0.1:51273 \"POST /session/d481ffcf4b322db9c104351bac4d399f/refresh HTTP/1.1\" 200 14\n",
      "2020-05-22 12:56:05 darkdevil selenium.webdriver.remote.remote_connection[19390] DEBUG Finished Request\n",
      "2020-05-22 12:56:20 darkdevil selenium.webdriver.remote.remote_connection[19390] DEBUG GET http://127.0.0.1:51273/session/d481ffcf4b322db9c104351bac4d399f/source {}\n",
      "2020-05-22 12:56:21 darkdevil urllib3.connectionpool[19390] DEBUG http://127.0.0.1:51273 \"GET /session/d481ffcf4b322db9c104351bac4d399f/source HTTP/1.1\" 200 888047\n",
      "2020-05-22 12:56:21 darkdevil selenium.webdriver.remote.remote_connection[19390] DEBUG Finished Request\n",
      "2020-05-22 12:56:22 darkdevil root[19390] INFO model_debug_50: USELESS\n",
      "\n",
      "2020-05-22 12:56:22 darkdevil selenium.webdriver.remote.remote_connection[19390] DEBUG POST http://127.0.0.1:51273/session/d481ffcf4b322db9c104351bac4d399f/refresh {}\n"
     ]
    },
    {
     "name": "stdout",
     "output_type": "stream",
     "text": [
      "5\n"
     ]
    },
    {
     "name": "stderr",
     "output_type": "stream",
     "text": [
      "2020-05-22 12:56:23 darkdevil urllib3.connectionpool[19390] DEBUG http://127.0.0.1:51273 \"POST /session/d481ffcf4b322db9c104351bac4d399f/refresh HTTP/1.1\" 200 14\n",
      "2020-05-22 12:56:23 darkdevil selenium.webdriver.remote.remote_connection[19390] DEBUG Finished Request\n",
      "2020-05-22 12:56:38 darkdevil selenium.webdriver.remote.remote_connection[19390] DEBUG GET http://127.0.0.1:51273/session/d481ffcf4b322db9c104351bac4d399f/source {}\n",
      "2020-05-22 12:56:38 darkdevil urllib3.connectionpool[19390] DEBUG http://127.0.0.1:51273 \"GET /session/d481ffcf4b322db9c104351bac4d399f/source HTTP/1.1\" 200 887742\n",
      "2020-05-22 12:56:38 darkdevil selenium.webdriver.remote.remote_connection[19390] DEBUG Finished Request\n",
      "2020-05-22 12:56:39 darkdevil root[19390] INFO model_debug_50: USELESS\n",
      "\n",
      "2020-05-22 12:56:39 darkdevil selenium.webdriver.remote.remote_connection[19390] DEBUG POST http://127.0.0.1:51273/session/d481ffcf4b322db9c104351bac4d399f/refresh {}\n"
     ]
    },
    {
     "name": "stdout",
     "output_type": "stream",
     "text": [
      "6\n"
     ]
    },
    {
     "name": "stderr",
     "output_type": "stream",
     "text": [
      "2020-05-22 12:56:40 darkdevil urllib3.connectionpool[19390] DEBUG http://127.0.0.1:51273 \"POST /session/d481ffcf4b322db9c104351bac4d399f/refresh HTTP/1.1\" 200 14\n",
      "2020-05-22 12:56:40 darkdevil selenium.webdriver.remote.remote_connection[19390] DEBUG Finished Request\n",
      "2020-05-22 12:56:55 darkdevil selenium.webdriver.remote.remote_connection[19390] DEBUG GET http://127.0.0.1:51273/session/d481ffcf4b322db9c104351bac4d399f/source {}\n",
      "2020-05-22 12:56:55 darkdevil urllib3.connectionpool[19390] DEBUG http://127.0.0.1:51273 \"GET /session/d481ffcf4b322db9c104351bac4d399f/source HTTP/1.1\" 200 886542\n",
      "2020-05-22 12:56:55 darkdevil selenium.webdriver.remote.remote_connection[19390] DEBUG Finished Request\n",
      "2020-05-22 12:56:56 darkdevil root[19390] INFO model_debug_50: USELESS\n",
      "\n",
      "2020-05-22 12:56:56 darkdevil selenium.webdriver.remote.remote_connection[19390] DEBUG POST http://127.0.0.1:51273/session/d481ffcf4b322db9c104351bac4d399f/refresh {}\n"
     ]
    },
    {
     "name": "stdout",
     "output_type": "stream",
     "text": [
      "7\n"
     ]
    },
    {
     "name": "stderr",
     "output_type": "stream",
     "text": [
      "2020-05-22 12:56:57 darkdevil urllib3.connectionpool[19390] DEBUG http://127.0.0.1:51273 \"POST /session/d481ffcf4b322db9c104351bac4d399f/refresh HTTP/1.1\" 200 14\n",
      "2020-05-22 12:56:57 darkdevil selenium.webdriver.remote.remote_connection[19390] DEBUG Finished Request\n",
      "2020-05-22 12:57:12 darkdevil selenium.webdriver.remote.remote_connection[19390] DEBUG GET http://127.0.0.1:51273/session/d481ffcf4b322db9c104351bac4d399f/source {}\n",
      "2020-05-22 12:57:12 darkdevil urllib3.connectionpool[19390] DEBUG http://127.0.0.1:51273 \"GET /session/d481ffcf4b322db9c104351bac4d399f/source HTTP/1.1\" 200 886530\n",
      "2020-05-22 12:57:12 darkdevil selenium.webdriver.remote.remote_connection[19390] DEBUG Finished Request\n",
      "2020-05-22 12:57:13 darkdevil root[19390] INFO model_debug_50: USELESS\n",
      "\n",
      "2020-05-22 12:57:13 darkdevil selenium.webdriver.remote.remote_connection[19390] DEBUG POST http://127.0.0.1:51273/session/d481ffcf4b322db9c104351bac4d399f/refresh {}\n"
     ]
    },
    {
     "name": "stdout",
     "output_type": "stream",
     "text": [
      "8\n"
     ]
    },
    {
     "name": "stderr",
     "output_type": "stream",
     "text": [
      "2020-05-22 12:57:15 darkdevil urllib3.connectionpool[19390] DEBUG http://127.0.0.1:51273 \"POST /session/d481ffcf4b322db9c104351bac4d399f/refresh HTTP/1.1\" 200 14\n",
      "2020-05-22 12:57:15 darkdevil selenium.webdriver.remote.remote_connection[19390] DEBUG Finished Request\n",
      "2020-05-22 12:57:30 darkdevil selenium.webdriver.remote.remote_connection[19390] DEBUG GET http://127.0.0.1:51273/session/d481ffcf4b322db9c104351bac4d399f/source {}\n",
      "2020-05-22 12:57:30 darkdevil urllib3.connectionpool[19390] DEBUG http://127.0.0.1:51273 \"GET /session/d481ffcf4b322db9c104351bac4d399f/source HTTP/1.1\" 200 886616\n",
      "2020-05-22 12:57:30 darkdevil selenium.webdriver.remote.remote_connection[19390] DEBUG Finished Request\n",
      "2020-05-22 12:57:31 darkdevil root[19390] INFO model_debug_50: USELESS\n",
      "\n",
      "2020-05-22 12:57:31 darkdevil selenium.webdriver.remote.remote_connection[19390] DEBUG POST http://127.0.0.1:51273/session/d481ffcf4b322db9c104351bac4d399f/refresh {}\n"
     ]
    },
    {
     "name": "stdout",
     "output_type": "stream",
     "text": [
      "9\n"
     ]
    },
    {
     "name": "stderr",
     "output_type": "stream",
     "text": [
      "2020-05-22 12:57:32 darkdevil urllib3.connectionpool[19390] DEBUG http://127.0.0.1:51273 \"POST /session/d481ffcf4b322db9c104351bac4d399f/refresh HTTP/1.1\" 200 14\n",
      "2020-05-22 12:57:32 darkdevil selenium.webdriver.remote.remote_connection[19390] DEBUG Finished Request\n",
      "2020-05-22 12:57:47 darkdevil selenium.webdriver.remote.remote_connection[19390] DEBUG GET http://127.0.0.1:51273/session/d481ffcf4b322db9c104351bac4d399f/source {}\n",
      "2020-05-22 12:57:47 darkdevil urllib3.connectionpool[19390] DEBUG http://127.0.0.1:51273 \"GET /session/d481ffcf4b322db9c104351bac4d399f/source HTTP/1.1\" 200 886981\n",
      "2020-05-22 12:57:47 darkdevil selenium.webdriver.remote.remote_connection[19390] DEBUG Finished Request\n",
      "2020-05-22 12:57:48 darkdevil root[19390] INFO model_debug_50: USELESS\n",
      "\n",
      "2020-05-22 12:57:48 darkdevil selenium.webdriver.remote.remote_connection[19390] DEBUG POST http://127.0.0.1:51273/session/d481ffcf4b322db9c104351bac4d399f/refresh {}\n"
     ]
    },
    {
     "name": "stdout",
     "output_type": "stream",
     "text": [
      "10\n"
     ]
    },
    {
     "name": "stderr",
     "output_type": "stream",
     "text": [
      "2020-05-22 12:57:49 darkdevil urllib3.connectionpool[19390] DEBUG http://127.0.0.1:51273 \"POST /session/d481ffcf4b322db9c104351bac4d399f/refresh HTTP/1.1\" 200 14\n",
      "2020-05-22 12:57:49 darkdevil selenium.webdriver.remote.remote_connection[19390] DEBUG Finished Request\n",
      "2020-05-22 12:58:04 darkdevil selenium.webdriver.remote.remote_connection[19390] DEBUG GET http://127.0.0.1:51273/session/d481ffcf4b322db9c104351bac4d399f/source {}\n",
      "2020-05-22 12:58:04 darkdevil urllib3.connectionpool[19390] DEBUG http://127.0.0.1:51273 \"GET /session/d481ffcf4b322db9c104351bac4d399f/source HTTP/1.1\" 200 886537\n",
      "2020-05-22 12:58:04 darkdevil selenium.webdriver.remote.remote_connection[19390] DEBUG Finished Request\n",
      "2020-05-22 12:58:05 darkdevil root[19390] INFO model_debug_50: USELESS\n",
      "\n",
      "2020-05-22 12:58:05 darkdevil selenium.webdriver.remote.remote_connection[19390] DEBUG POST http://127.0.0.1:51273/session/d481ffcf4b322db9c104351bac4d399f/refresh {}\n"
     ]
    },
    {
     "name": "stdout",
     "output_type": "stream",
     "text": [
      "11\n"
     ]
    },
    {
     "name": "stderr",
     "output_type": "stream",
     "text": [
      "2020-05-22 12:58:07 darkdevil urllib3.connectionpool[19390] DEBUG http://127.0.0.1:51273 \"POST /session/d481ffcf4b322db9c104351bac4d399f/refresh HTTP/1.1\" 200 14\n",
      "2020-05-22 12:58:07 darkdevil selenium.webdriver.remote.remote_connection[19390] DEBUG Finished Request\n",
      "2020-05-22 12:58:22 darkdevil selenium.webdriver.remote.remote_connection[19390] DEBUG GET http://127.0.0.1:51273/session/d481ffcf4b322db9c104351bac4d399f/source {}\n",
      "2020-05-22 12:58:22 darkdevil urllib3.connectionpool[19390] DEBUG http://127.0.0.1:51273 \"GET /session/d481ffcf4b322db9c104351bac4d399f/source HTTP/1.1\" 200 887685\n",
      "2020-05-22 12:58:22 darkdevil selenium.webdriver.remote.remote_connection[19390] DEBUG Finished Request\n",
      "2020-05-22 12:58:23 darkdevil root[19390] INFO model_debug_50: USELESS\n",
      "\n",
      "2020-05-22 12:58:23 darkdevil selenium.webdriver.remote.remote_connection[19390] DEBUG POST http://127.0.0.1:51273/session/d481ffcf4b322db9c104351bac4d399f/refresh {}\n"
     ]
    },
    {
     "name": "stdout",
     "output_type": "stream",
     "text": [
      "12\n"
     ]
    },
    {
     "name": "stderr",
     "output_type": "stream",
     "text": [
      "2020-05-22 12:58:24 darkdevil urllib3.connectionpool[19390] DEBUG http://127.0.0.1:51273 \"POST /session/d481ffcf4b322db9c104351bac4d399f/refresh HTTP/1.1\" 200 14\n",
      "2020-05-22 12:58:24 darkdevil selenium.webdriver.remote.remote_connection[19390] DEBUG Finished Request\n",
      "2020-05-22 12:58:39 darkdevil selenium.webdriver.remote.remote_connection[19390] DEBUG GET http://127.0.0.1:51273/session/d481ffcf4b322db9c104351bac4d399f/source {}\n",
      "2020-05-22 12:58:39 darkdevil urllib3.connectionpool[19390] DEBUG http://127.0.0.1:51273 \"GET /session/d481ffcf4b322db9c104351bac4d399f/source HTTP/1.1\" 200 886655\n",
      "2020-05-22 12:58:39 darkdevil selenium.webdriver.remote.remote_connection[19390] DEBUG Finished Request\n",
      "2020-05-22 12:58:40 darkdevil root[19390] INFO model_debug_50: USELESS\n",
      "\n"
     ]
    },
    {
     "data": {
      "text/html": [
       "\n",
       "<div id=\"altair-viz-d2f518e3abe7427c9654dee85264501e\"></div>\n",
       "<script type=\"text/javascript\">\n",
       "  (function(spec, embedOpt){\n",
       "    let outputDiv = document.currentScript.previousElementSibling;\n",
       "    if (outputDiv.id !== \"altair-viz-d2f518e3abe7427c9654dee85264501e\") {\n",
       "      outputDiv = document.getElementById(\"altair-viz-d2f518e3abe7427c9654dee85264501e\");\n",
       "    }\n",
       "    const paths = {\n",
       "      \"vega\": \"https://cdn.jsdelivr.net/npm//vega@5?noext\",\n",
       "      \"vega-lib\": \"https://cdn.jsdelivr.net/npm//vega-lib?noext\",\n",
       "      \"vega-lite\": \"https://cdn.jsdelivr.net/npm//vega-lite@4.8.1?noext\",\n",
       "      \"vega-embed\": \"https://cdn.jsdelivr.net/npm//vega-embed@6?noext\",\n",
       "    };\n",
       "\n",
       "    function loadScript(lib) {\n",
       "      return new Promise(function(resolve, reject) {\n",
       "        var s = document.createElement('script');\n",
       "        s.src = paths[lib];\n",
       "        s.async = true;\n",
       "        s.onload = () => resolve(paths[lib]);\n",
       "        s.onerror = () => reject(`Error loading script: ${paths[lib]}`);\n",
       "        document.getElementsByTagName(\"head\")[0].appendChild(s);\n",
       "      });\n",
       "    }\n",
       "\n",
       "    function showError(err) {\n",
       "      outputDiv.innerHTML = `<div class=\"error\" style=\"color:red;\">${err}</div>`;\n",
       "      throw err;\n",
       "    }\n",
       "\n",
       "    function displayChart(vegaEmbed) {\n",
       "      vegaEmbed(outputDiv, spec, embedOpt)\n",
       "        .catch(err => showError(`Javascript Error: ${err.message}<br>This usually means there's a typo in your chart specification. See the javascript console for the full traceback.`));\n",
       "    }\n",
       "\n",
       "    if(typeof define === \"function\" && define.amd) {\n",
       "      requirejs.config({paths});\n",
       "      require([\"vega-embed\"], displayChart, err => showError(`Error loading script: ${err.message}`));\n",
       "    } else if (typeof vegaEmbed === \"function\") {\n",
       "      displayChart(vegaEmbed);\n",
       "    } else {\n",
       "      loadScript(\"vega\")\n",
       "        .then(() => loadScript(\"vega-lite\"))\n",
       "        .then(() => loadScript(\"vega-embed\"))\n",
       "        .catch(showError)\n",
       "        .then(() => displayChart(vegaEmbed));\n",
       "    }\n",
       "  })({\"config\": {\"view\": {\"continuousWidth\": 400, \"continuousHeight\": 300}}, \"layer\": [{\"mark\": {\"type\": \"line\", \"color\": \"green\", \"opacity\": 0.5}, \"encoding\": {\"x\": {\"type\": \"temporal\", \"field\": \"time\", \"timeUnit\": \"hoursminutesseconds\"}, \"y\": {\"type\": \"quantitative\", \"axis\": {\"format\": \"$.2f\", \"title\": \"Price\"}, \"field\": \"position\", \"scale\": {\"clamp\": true, \"domain\": [1426.0, 1433.7]}}}, \"selection\": {\"selector003\": {\"type\": \"interval\", \"bind\": \"scales\", \"encodings\": [\"x\"]}}}, {\"mark\": {\"type\": \"point\", \"filled\": true}, \"encoding\": {\"color\": {\"type\": \"nominal\", \"field\": \"action\"}, \"x\": {\"type\": \"ordinal\", \"field\": \"time\", \"timeUnit\": \"hoursminutesseconds\", \"title\": \"Time\"}, \"y\": {\"type\": \"quantitative\", \"axis\": {\"format\": \"$.2f\", \"title\": \"Price\"}, \"field\": \"position\", \"scale\": {\"clamp\": true, \"domain\": [1426.0, 1433.7]}}}, \"selection\": {\"selector004\": {\"type\": \"interval\", \"bind\": \"scales\", \"encodings\": [\"x\"]}}, \"transform\": [{\"filter\": \"(datum.action !== 'HOLD')\"}]}], \"data\": {\"name\": \"data-2ec7280740ea0f3fe83bd303903c8ad2\"}, \"height\": 300, \"title\": \"trading session\", \"width\": 1000, \"$schema\": \"https://vega.github.io/schema/vega-lite/v4.8.1.json\", \"datasets\": {\"data-2ec7280740ea0f3fe83bd303903c8ad2\": [{\"time\": \"2020-05-22T12:55:11\", \"actual\": 1431.5, \"position\": 1431.5, \"action\": \"HOLD\"}, {\"time\": \"2020-05-22T12:55:28\", \"actual\": 1429.1, \"position\": 1431.5, \"action\": \"BUY\"}, {\"time\": \"2020-05-22T12:55:46\", \"actual\": 1428.0, \"position\": 1429.1, \"action\": \"BUY\"}, {\"time\": \"2020-05-22T12:56:03\", \"actual\": 1428.8, \"position\": 1428.0, \"action\": \"BUY\"}, {\"time\": \"2020-05-22T12:56:21\", \"actual\": 1429.05, \"position\": 1428.8, \"action\": \"BUY\"}, {\"time\": \"2020-05-22T12:56:38\", \"actual\": 1428.55, \"position\": 1429.05, \"action\": \"BUY\"}, {\"time\": \"2020-05-22T12:56:55\", \"actual\": 1428.1, \"position\": 1428.55, \"action\": \"BUY\"}, {\"time\": \"2020-05-22T12:57:12\", \"actual\": 1428.4, \"position\": 1428.1, \"action\": \"BUY\"}, {\"time\": \"2020-05-22T12:57:30\", \"actual\": 1429.75, \"position\": 1428.4, \"action\": \"BUY\"}, {\"time\": \"2020-05-22T12:57:47\", \"actual\": 1429.8, \"position\": 1429.75, \"action\": \"BUY\"}, {\"time\": \"2020-05-22T12:58:05\", \"actual\": 1429.8, \"position\": 1429.8, \"action\": \"BUY\"}, {\"time\": \"2020-05-22T12:58:22\", \"actual\": 1431.7, \"position\": 1429.8, \"action\": \"BUY\"}, {\"time\": \"2020-05-22T12:58:39\", \"actual\": 1430.75, \"position\": 1431.7, \"action\": \"BUY\"}]}}, {\"mode\": \"vega-lite\"});\n",
       "</script>"
      ],
      "text/plain": [
       "alt.LayerChart(...)"
      ]
     },
     "execution_count": 49,
     "metadata": {},
     "output_type": "execute_result"
    }
   ],
   "source": [
    "coloredlogs.install(level=\"DEBUG\")\n",
    "switch_k_backend_device()\n",
    "args = argparse.Namespace(ticker='RELIANCE')\n",
    "try:\n",
    "    count = 0\n",
    "    total_profit = 0\n",
    "    t=0\n",
    "    history = []\n",
    "    reward = 0\n",
    "    ticker = args.ticker + '.NS'\n",
    "    price = []\n",
    "    window_size = 2\n",
    "    time_array = []\n",
    "    time_now = datetime.datetime.now(tz).time()\n",
    "    d = {}\n",
    "    while(datetime.time(9, 14, tzinfo=tz) < time_now < datetime.time(15, 31, tzinfo=tz)):\n",
    "        url = 'https://finance.yahoo.com/quote/{}?p={}&.tsrc=fin-srch'.format(ticker,ticker)\n",
    "        print(count)\n",
    "        live = Real(url,count)\n",
    "        count+=1        \n",
    "        x = datetime.datetime.now(tz).isoformat().split('.')[0]\n",
    "        price.append(live)\n",
    "        time_array.append(x)\n",
    "        if count < window_size:\n",
    "           continue\n",
    "        model_name='model_debug_50'\n",
    "        initial_offset = price[1] - price[0]\n",
    "        state = get_state(price, 0, window_size + 1)\n",
    "        next_state = get_state(price, t + 1, window_size + 1)\n",
    "        agent = Agent(state_size=window_size, pretrained=True, model_name=model_name)\n",
    "        agent.inventory = []\n",
    "        profit = evaluate_model(agent,state,next_state, price, t, total_profit, history, reward, window_size)\n",
    "        show_eval_result(model_name, profit, initial_offset)\n",
    "        t+=1\n",
    "        state = next_state\n",
    "        \n",
    "        if count > 12:\n",
    "            break\n",
    "    #price = price[:len(time_array)]\n",
    "    d = {'time': time_array, 'actual': price}  \n",
    "    df = pd.DataFrame(d) \n",
    "    df.to_csv('new.csv', columns=[\"time\", \"actual\"])\n",
    "except KeyboardInterrupt:\n",
    "    print(\"Aborted\")    \n",
    "visualize(df, history, title=\"trading session\")"
   ]
  }
 ],
 "metadata": {
  "kernelspec": {
   "display_name": "Python 3",
   "language": "python",
   "name": "python3"
  },
  "language_info": {
   "codemirror_mode": {
    "name": "ipython",
    "version": 3
   },
   "file_extension": ".py",
   "mimetype": "text/x-python",
   "name": "python",
   "nbconvert_exporter": "python",
   "pygments_lexer": "ipython3",
   "version": "3.7.6"
  }
 },
 "nbformat": 4,
 "nbformat_minor": 4
}
